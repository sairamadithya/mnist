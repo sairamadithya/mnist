{
  "nbformat": 4,
  "nbformat_minor": 0,
  "metadata": {
    "colab": {
      "name": "mnist.ipynb",
      "provenance": [],
      "authorship_tag": "ABX9TyOXPqkLI82eSM26TFWddZTt",
      "include_colab_link": true
    },
    "kernelspec": {
      "name": "python3",
      "display_name": "Python 3"
    },
    "language_info": {
      "name": "python"
    },
    "accelerator": "GPU"
  },
  "cells": [
    {
      "cell_type": "markdown",
      "metadata": {
        "id": "view-in-github",
        "colab_type": "text"
      },
      "source": [
        "<a href=\"https://colab.research.google.com/github/sairamadithya/mnist/blob/main/mnist.ipynb\" target=\"_parent\"><img src=\"https://colab.research.google.com/assets/colab-badge.svg\" alt=\"Open In Colab\"/></a>"
      ]
    },
    {
      "cell_type": "code",
      "metadata": {
        "id": "j0uoRZ0ga9hM"
      },
      "source": [
        "import numpy as np\n",
        "import matplotlib.pyplot as plt\n",
        "from keras import Sequential\n",
        "from keras.layers import *\n",
        "from tensorflow.keras.utils import to_categorical\n",
        "from keras.preprocessing import image\n",
        "from keras.datasets import mnist"
      ],
      "execution_count": 1,
      "outputs": []
    },
    {
      "cell_type": "code",
      "metadata": {
        "id": "0XR_fH5eba34"
      },
      "source": [
        "(xtrain,ytrain), (xtest,ytest)= mnist.load_data()\n",
        "xtrain= xtrain/255.0\n",
        "xtest= xtest/255.0\n",
        "x_train= np.expand_dims(xtrain,-1)\n",
        "x_test= np.expand_dims(xtest,-1)\n",
        "y_train= to_categorical(ytrain,10)\n",
        "y_test= to_categorical(ytest,10)"
      ],
      "execution_count": 12,
      "outputs": []
    },
    {
      "cell_type": "code",
      "metadata": {
        "colab": {
          "base_uri": "https://localhost:8080/"
        },
        "id": "nDNNwWYYeZAC",
        "outputId": "ed047cc9-6641-483c-9806-c8c80ed678a5"
      },
      "source": [
        "x_train.shape"
      ],
      "execution_count": 3,
      "outputs": [
        {
          "output_type": "execute_result",
          "data": {
            "text/plain": [
              "(60000, 28, 28, 1)"
            ]
          },
          "metadata": {
            "tags": []
          },
          "execution_count": 3
        }
      ]
    },
    {
      "cell_type": "code",
      "metadata": {
        "colab": {
          "base_uri": "https://localhost:8080/"
        },
        "id": "jsYlS44IcP13",
        "outputId": "e11829ba-b6ac-4188-bbbd-a7458b90681e"
      },
      "source": [
        "model= Sequential()\n",
        "model.add(Conv2D(64,kernel_size=(3,3),activation='relu',input_shape=(28,28,1),padding='same'))\n",
        "model.add(Conv2D(64,kernel_size=(3,3),activation='relu',padding='same'))\n",
        "model.add(MaxPooling2D(pool_size=(2,2)))\n",
        "model.add(Dropout(0.15))\n",
        "model.add(BatchNormalization())\n",
        "model.add(Conv2D(128,kernel_size=(3,3),activation='relu',padding='same'))\n",
        "model.add(Conv2D(128,kernel_size=(3,3),activation='relu',padding='same'))\n",
        "model.add(MaxPooling2D(pool_size=(2,2)))\n",
        "model.add(Dropout(0.15))\n",
        "model.add(BatchNormalization())\n",
        "model.add(Conv2D(256,kernel_size=(3,3),activation='relu',padding='same'))\n",
        "model.add(Conv2D(256,kernel_size=(3,3),activation='relu',padding='same'))\n",
        "model.add(MaxPooling2D(pool_size=(2,2)))\n",
        "model.add(Dropout(0.15))\n",
        "model.add(BatchNormalization())\n",
        "model.add(GaussianNoise(0.25))\n",
        "model.add(Flatten())\n",
        "model.add(Dense(128,activation='relu'))\n",
        "model.add(Dropout(0.15))\n",
        "model.add(BatchNormalization())\n",
        "model.add(GaussianNoise(0.25))\n",
        "model.add(Dense(10,activation='softmax'))\n",
        "model.summary()\n"
      ],
      "execution_count": 4,
      "outputs": [
        {
          "output_type": "stream",
          "text": [
            "Model: \"sequential\"\n",
            "_________________________________________________________________\n",
            "Layer (type)                 Output Shape              Param #   \n",
            "=================================================================\n",
            "conv2d (Conv2D)              (None, 28, 28, 64)        640       \n",
            "_________________________________________________________________\n",
            "conv2d_1 (Conv2D)            (None, 28, 28, 64)        36928     \n",
            "_________________________________________________________________\n",
            "max_pooling2d (MaxPooling2D) (None, 14, 14, 64)        0         \n",
            "_________________________________________________________________\n",
            "dropout (Dropout)            (None, 14, 14, 64)        0         \n",
            "_________________________________________________________________\n",
            "batch_normalization (BatchNo (None, 14, 14, 64)        256       \n",
            "_________________________________________________________________\n",
            "conv2d_2 (Conv2D)            (None, 14, 14, 128)       73856     \n",
            "_________________________________________________________________\n",
            "conv2d_3 (Conv2D)            (None, 14, 14, 128)       147584    \n",
            "_________________________________________________________________\n",
            "max_pooling2d_1 (MaxPooling2 (None, 7, 7, 128)         0         \n",
            "_________________________________________________________________\n",
            "dropout_1 (Dropout)          (None, 7, 7, 128)         0         \n",
            "_________________________________________________________________\n",
            "batch_normalization_1 (Batch (None, 7, 7, 128)         512       \n",
            "_________________________________________________________________\n",
            "conv2d_4 (Conv2D)            (None, 7, 7, 256)         295168    \n",
            "_________________________________________________________________\n",
            "conv2d_5 (Conv2D)            (None, 7, 7, 256)         590080    \n",
            "_________________________________________________________________\n",
            "max_pooling2d_2 (MaxPooling2 (None, 3, 3, 256)         0         \n",
            "_________________________________________________________________\n",
            "dropout_2 (Dropout)          (None, 3, 3, 256)         0         \n",
            "_________________________________________________________________\n",
            "batch_normalization_2 (Batch (None, 3, 3, 256)         1024      \n",
            "_________________________________________________________________\n",
            "gaussian_noise (GaussianNois (None, 3, 3, 256)         0         \n",
            "_________________________________________________________________\n",
            "flatten (Flatten)            (None, 2304)              0         \n",
            "_________________________________________________________________\n",
            "dense (Dense)                (None, 128)               295040    \n",
            "_________________________________________________________________\n",
            "dropout_3 (Dropout)          (None, 128)               0         \n",
            "_________________________________________________________________\n",
            "batch_normalization_3 (Batch (None, 128)               512       \n",
            "_________________________________________________________________\n",
            "gaussian_noise_1 (GaussianNo (None, 128)               0         \n",
            "_________________________________________________________________\n",
            "dense_1 (Dense)              (None, 10)                1290      \n",
            "=================================================================\n",
            "Total params: 1,442,890\n",
            "Trainable params: 1,441,738\n",
            "Non-trainable params: 1,152\n",
            "_________________________________________________________________\n"
          ],
          "name": "stdout"
        }
      ]
    },
    {
      "cell_type": "code",
      "metadata": {
        "id": "UiqEESzCdcYf"
      },
      "source": [
        "model.compile(optimizer='adam',loss='categorical_crossentropy',metrics=['accuracy'])"
      ],
      "execution_count": 18,
      "outputs": []
    },
    {
      "cell_type": "code",
      "metadata": {
        "colab": {
          "base_uri": "https://localhost:8080/"
        },
        "id": "qRVnR7oWdwT7",
        "outputId": "32744324-24b5-4f9b-cdef-64d14b4403d4"
      },
      "source": [
        "from keras.callbacks import ModelCheckpoint, EarlyStopping\n",
        "es= EarlyStopping(monitor='val_loss',patience=2)\n",
        "mp= ModelCheckpoint('best_model.hdf5',save_best_only=True)\n",
        "callback=[mp,es]\n",
        "history= model.fit(x_train,\n",
        "                   y_train,\n",
        "                   epochs=20,\n",
        "                   steps_per_epoch=3750,\n",
        "                   batch_size=16,\n",
        "                   validation_data=(x_test,y_test),\n",
        "                   callbacks=callback)"
      ],
      "execution_count": 19,
      "outputs": [
        {
          "output_type": "stream",
          "text": [
            "Epoch 1/20\n",
            "3750/3750 [==============================] - 26s 7ms/step - loss: 0.2337 - accuracy: 0.9290 - val_loss: 0.0427 - val_accuracy: 0.9861\n",
            "Epoch 2/20\n",
            "3750/3750 [==============================] - 24s 6ms/step - loss: 0.0590 - accuracy: 0.9823 - val_loss: 0.0291 - val_accuracy: 0.9909\n",
            "Epoch 3/20\n",
            "3750/3750 [==============================] - 22s 6ms/step - loss: 0.0557 - accuracy: 0.9830 - val_loss: 0.0240 - val_accuracy: 0.9929\n",
            "Epoch 4/20\n",
            "3750/3750 [==============================] - 24s 6ms/step - loss: 0.0404 - accuracy: 0.9878 - val_loss: 0.0249 - val_accuracy: 0.9923\n",
            "Epoch 5/20\n",
            "3750/3750 [==============================] - 23s 6ms/step - loss: 0.0337 - accuracy: 0.9896 - val_loss: 0.0224 - val_accuracy: 0.9937\n",
            "Epoch 6/20\n",
            "3750/3750 [==============================] - 23s 6ms/step - loss: 0.0275 - accuracy: 0.9914 - val_loss: 0.0186 - val_accuracy: 0.9940\n",
            "Epoch 7/20\n",
            "3750/3750 [==============================] - 22s 6ms/step - loss: 0.0237 - accuracy: 0.9926 - val_loss: 0.0157 - val_accuracy: 0.9948\n",
            "Epoch 8/20\n",
            "3750/3750 [==============================] - 24s 6ms/step - loss: 0.0217 - accuracy: 0.9934 - val_loss: 0.0192 - val_accuracy: 0.9940\n",
            "Epoch 9/20\n",
            "3750/3750 [==============================] - 24s 6ms/step - loss: 0.0195 - accuracy: 0.9944 - val_loss: 0.0243 - val_accuracy: 0.9936\n",
            "Epoch 10/20\n",
            "3750/3750 [==============================] - 23s 6ms/step - loss: 0.0195 - accuracy: 0.9943 - val_loss: 0.0169 - val_accuracy: 0.9950\n",
            "Epoch 11/20\n",
            "3750/3750 [==============================] - 23s 6ms/step - loss: 0.0138 - accuracy: 0.9959 - val_loss: 0.0222 - val_accuracy: 0.9951\n",
            "Epoch 12/20\n",
            "3750/3750 [==============================] - 24s 6ms/step - loss: 0.0140 - accuracy: 0.9955 - val_loss: 0.0203 - val_accuracy: 0.9949\n"
          ],
          "name": "stdout"
        }
      ]
    },
    {
      "cell_type": "code",
      "metadata": {
        "colab": {
          "base_uri": "https://localhost:8080/"
        },
        "id": "lDgcOJdHeuUS",
        "outputId": "9f5fc5d3-ed8a-45da-969a-2c27c3237978"
      },
      "source": [
        "model.evaluate(x_train,y_train)"
      ],
      "execution_count": 21,
      "outputs": [
        {
          "output_type": "stream",
          "text": [
            "1875/1875 [==============================] - 8s 4ms/step - loss: 0.0039 - accuracy: 0.9986\n"
          ],
          "name": "stdout"
        },
        {
          "output_type": "execute_result",
          "data": {
            "text/plain": [
              "[0.003918918780982494, 0.9986333250999451]"
            ]
          },
          "metadata": {
            "tags": []
          },
          "execution_count": 21
        }
      ]
    },
    {
      "cell_type": "code",
      "metadata": {
        "colab": {
          "base_uri": "https://localhost:8080/"
        },
        "id": "c2MFgxh_exsO",
        "outputId": "c5da0460-ed32-44bb-f2de-71ecf1493dac"
      },
      "source": [
        "model.evaluate(x_test,y_test)"
      ],
      "execution_count": 23,
      "outputs": [
        {
          "output_type": "stream",
          "text": [
            "313/313 [==============================] - 2s 5ms/step - loss: 0.0203 - accuracy: 0.9949\n"
          ],
          "name": "stdout"
        },
        {
          "output_type": "execute_result",
          "data": {
            "text/plain": [
              "[0.020302770659327507, 0.9948999881744385]"
            ]
          },
          "metadata": {
            "tags": []
          },
          "execution_count": 23
        }
      ]
    },
    {
      "cell_type": "code",
      "metadata": {
        "colab": {
          "base_uri": "https://localhost:8080/",
          "height": 312
        },
        "id": "IAWcDrihe0Hu",
        "outputId": "008a03c3-c1fd-443f-d0a9-a81f8bb0552e"
      },
      "source": [
        "plt.plot(history.history['accuracy'])\n",
        "plt.plot(history.history['val_accuracy'])\n",
        "plt.title('accuracy plot')\n",
        "plt.xlabel('epoch')\n",
        "plt.ylabel('accuracies')\n",
        "plt.legend(['train','validation'])"
      ],
      "execution_count": 24,
      "outputs": [
        {
          "output_type": "execute_result",
          "data": {
            "text/plain": [
              "<matplotlib.legend.Legend at 0x7fb6a42d5550>"
            ]
          },
          "metadata": {
            "tags": []
          },
          "execution_count": 24
        },
        {
          "output_type": "display_data",
          "data": {
            "image/png": "[encoded data removed]",
            "text/plain": [
              "<Figure size 432x288 with 1 Axes>"
            ]
          },
          "metadata": {
            "tags": [],
            "needs_background": "light"
          }
        }
      ]
    },
    {
      "cell_type": "code",
      "metadata": {
        "colab": {
          "base_uri": "https://localhost:8080/",
          "height": 312
        },
        "id": "nw_i-1chjBD3",
        "outputId": "890727a3-26ea-46e5-ed63-4ad6df2fa2a4"
      },
      "source": [
        "plt.plot(history.history['loss'])\n",
        "plt.plot(history.history['val_loss'])\n",
        "plt.title('loss plot')\n",
        "plt.xlabel('epoch')\n",
        "plt.ylabel('accuracies')\n",
        "plt.legend(['train','validation'])"
      ],
      "execution_count": 25,
      "outputs": [
        {
          "output_type": "execute_result",
          "data": {
            "text/plain": [
              "<matplotlib.legend.Legend at 0x7fb68e15dc50>"
            ]
          },
          "metadata": {
            "tags": []
          },
          "execution_count": 25
        },
        {
          "output_type": "display_data",
          "data": {
            "image/png": "[encoded data removed]",
            "text/plain": [
              "<Figure size 432x288 with 1 Axes>"
            ]
          },
          "metadata": {
            "tags": [],
            "needs_background": "light"
          }
        }
      ]
    },
    {
      "cell_type": "code",
      "metadata": {
        "colab": {
          "base_uri": "https://localhost:8080/",
          "height": 391
        },
        "id": "eVR0iS2IjFgt",
        "outputId": "02ceee08-dc98-4bbb-9f17-6097378f1b27"
      },
      "source": [
        "from keras.preprocessing import image\n",
        "img= image.load_img('test-8.png',color_mode=\"grayscale\",target_size=(28,28))\n",
        "imag= image.img_to_array(img)\n",
        "image= imag.reshape(1,28,28,1)\n",
        "image= image/255.0\n",
        "ypred = model.predict(image)\n",
        "ypred\n",
        "output=np.argmax(ypred)\n",
        "def plot_img(img):\n",
        "  plt.figure(figsize=(6,6))\n",
        "  plt.imshow(img)  \n",
        "  plt.title('')\n",
        "  plt.axis('off')\n",
        "plot_img(img)\n",
        "print('The uploaded image contains the number:',output)\n",
        "print('THANK YOU FOR USING THIS PROJECT. HOPE THIS HELPS!!!!')"
      ],
      "execution_count": 41,
      "outputs": [
        {
          "output_type": "stream",
          "text": [
            "The uploaded image contains the number: 8\n",
            "THANK YOU FOR USING THIS PROJECT. HOPE THIS HELPS!!!!\n"
          ],
          "name": "stdout"
        },
        {
          "output_type": "display_data",
          "data": {
            "image/png": "[encoded data removed]",
            "text/plain": [
              "<Figure size 432x432 with 1 Axes>"
            ]
          },
          "metadata": {
            "tags": [],
            "needs_background": "light"
          }
        }
      ]
    }
  ]
}